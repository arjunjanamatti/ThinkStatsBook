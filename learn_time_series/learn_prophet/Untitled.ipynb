{
 "cells": [
  {
   "cell_type": "code",
   "execution_count": 1,
   "metadata": {
    "ExecuteTime": {
     "end_time": "2021-06-10T10:32:20.059363Z",
     "start_time": "2021-06-10T10:32:20.034797Z"
    }
   },
   "outputs": [],
   "source": [
    "import pandas as pd\n",
    "pd.set_option('display.max_columns', None)\n",
    "import numpy as np\n",
    "from fbprophet import Prophet\n",
    "import matplotlib.pyplot as plt\n",
    "%matplotlib inline"
   ]
  },
  {
   "cell_type": "code",
   "execution_count": 2,
   "metadata": {
    "ExecuteTime": {
     "end_time": "2021-06-10T10:32:45.961701Z",
     "start_time": "2021-06-10T10:32:45.894784Z"
    }
   },
   "outputs": [
    {
     "data": {
      "text/html": [
       "<div>\n",
       "<style scoped>\n",
       "    .dataframe tbody tr th:only-of-type {\n",
       "        vertical-align: middle;\n",
       "    }\n",
       "\n",
       "    .dataframe tbody tr th {\n",
       "        vertical-align: top;\n",
       "    }\n",
       "\n",
       "    .dataframe thead th {\n",
       "        text-align: right;\n",
       "    }\n",
       "</style>\n",
       "<table border=\"1\" class=\"dataframe\">\n",
       "  <thead>\n",
       "    <tr style=\"text-align: right;\">\n",
       "      <th></th>\n",
       "      <th>Division</th>\n",
       "      <th>Calendar_Week</th>\n",
       "      <th>Paid_Views</th>\n",
       "      <th>Organic_Views</th>\n",
       "      <th>Google_Impressions</th>\n",
       "      <th>Email_Impressions</th>\n",
       "      <th>Facebook_Impressions</th>\n",
       "      <th>Affiliate_Impressions</th>\n",
       "      <th>Overall_Views</th>\n",
       "      <th>Sales</th>\n",
       "    </tr>\n",
       "  </thead>\n",
       "  <tbody>\n",
       "    <tr>\n",
       "      <th>0</th>\n",
       "      <td>A</td>\n",
       "      <td>1/6/2018</td>\n",
       "      <td>392</td>\n",
       "      <td>422</td>\n",
       "      <td>408</td>\n",
       "      <td>3.498950e+05</td>\n",
       "      <td>73580</td>\n",
       "      <td>12072</td>\n",
       "      <td>682</td>\n",
       "      <td>59417</td>\n",
       "    </tr>\n",
       "    <tr>\n",
       "      <th>1</th>\n",
       "      <td>A</td>\n",
       "      <td>1/13/2018</td>\n",
       "      <td>787</td>\n",
       "      <td>904</td>\n",
       "      <td>110</td>\n",
       "      <td>5.062702e+05</td>\n",
       "      <td>11804</td>\n",
       "      <td>9499</td>\n",
       "      <td>853</td>\n",
       "      <td>56806</td>\n",
       "    </tr>\n",
       "    <tr>\n",
       "      <th>2</th>\n",
       "      <td>A</td>\n",
       "      <td>1/20/2018</td>\n",
       "      <td>81</td>\n",
       "      <td>970</td>\n",
       "      <td>742</td>\n",
       "      <td>4.300422e+05</td>\n",
       "      <td>52232</td>\n",
       "      <td>17048</td>\n",
       "      <td>759</td>\n",
       "      <td>48715</td>\n",
       "    </tr>\n",
       "    <tr>\n",
       "      <th>3</th>\n",
       "      <td>A</td>\n",
       "      <td>1/27/2018</td>\n",
       "      <td>25</td>\n",
       "      <td>575</td>\n",
       "      <td>65</td>\n",
       "      <td>4.177457e+05</td>\n",
       "      <td>78640</td>\n",
       "      <td>10207</td>\n",
       "      <td>942</td>\n",
       "      <td>72047</td>\n",
       "    </tr>\n",
       "    <tr>\n",
       "      <th>4</th>\n",
       "      <td>A</td>\n",
       "      <td>2/3/2018</td>\n",
       "      <td>565</td>\n",
       "      <td>284</td>\n",
       "      <td>295</td>\n",
       "      <td>4.085058e+05</td>\n",
       "      <td>40561</td>\n",
       "      <td>5834</td>\n",
       "      <td>658</td>\n",
       "      <td>56235</td>\n",
       "    </tr>\n",
       "    <tr>\n",
       "      <th>...</th>\n",
       "      <td>...</td>\n",
       "      <td>...</td>\n",
       "      <td>...</td>\n",
       "      <td>...</td>\n",
       "      <td>...</td>\n",
       "      <td>...</td>\n",
       "      <td>...</td>\n",
       "      <td>...</td>\n",
       "      <td>...</td>\n",
       "      <td>...</td>\n",
       "    </tr>\n",
       "    <tr>\n",
       "      <th>3046</th>\n",
       "      <td>Z</td>\n",
       "      <td>2/1/2020</td>\n",
       "      <td>29239</td>\n",
       "      <td>25311</td>\n",
       "      <td>622406</td>\n",
       "      <td>1.459071e+06</td>\n",
       "      <td>45026</td>\n",
       "      <td>12098</td>\n",
       "      <td>53667</td>\n",
       "      <td>82707</td>\n",
       "    </tr>\n",
       "    <tr>\n",
       "      <th>3047</th>\n",
       "      <td>Z</td>\n",
       "      <td>2/8/2020</td>\n",
       "      <td>26230</td>\n",
       "      <td>28031</td>\n",
       "      <td>624409</td>\n",
       "      <td>5.342505e+05</td>\n",
       "      <td>227070</td>\n",
       "      <td>9548</td>\n",
       "      <td>53665</td>\n",
       "      <td>84503</td>\n",
       "    </tr>\n",
       "    <tr>\n",
       "      <th>3048</th>\n",
       "      <td>Z</td>\n",
       "      <td>2/15/2020</td>\n",
       "      <td>24749</td>\n",
       "      <td>31281</td>\n",
       "      <td>439362</td>\n",
       "      <td>4.227182e+05</td>\n",
       "      <td>393685</td>\n",
       "      <td>9861</td>\n",
       "      <td>55561</td>\n",
       "      <td>147325</td>\n",
       "    </tr>\n",
       "    <tr>\n",
       "      <th>3049</th>\n",
       "      <td>Z</td>\n",
       "      <td>2/22/2020</td>\n",
       "      <td>20713</td>\n",
       "      <td>30356</td>\n",
       "      <td>464178</td>\n",
       "      <td>6.085799e+05</td>\n",
       "      <td>424676</td>\n",
       "      <td>10221</td>\n",
       "      <td>49221</td>\n",
       "      <td>111525</td>\n",
       "    </tr>\n",
       "    <tr>\n",
       "      <th>3050</th>\n",
       "      <td>Z</td>\n",
       "      <td>2/29/2020</td>\n",
       "      <td>15990</td>\n",
       "      <td>26993</td>\n",
       "      <td>449032</td>\n",
       "      <td>4.390165e+05</td>\n",
       "      <td>161439</td>\n",
       "      <td>10294</td>\n",
       "      <td>42994</td>\n",
       "      <td>98187</td>\n",
       "    </tr>\n",
       "  </tbody>\n",
       "</table>\n",
       "<p>3051 rows × 10 columns</p>\n",
       "</div>"
      ],
      "text/plain": [
       "     Division Calendar_Week  Paid_Views  Organic_Views  Google_Impressions  \\\n",
       "0           A      1/6/2018         392            422                 408   \n",
       "1           A     1/13/2018         787            904                 110   \n",
       "2           A     1/20/2018          81            970                 742   \n",
       "3           A     1/27/2018          25            575                  65   \n",
       "4           A      2/3/2018         565            284                 295   \n",
       "...       ...           ...         ...            ...                 ...   \n",
       "3046        Z      2/1/2020       29239          25311              622406   \n",
       "3047        Z      2/8/2020       26230          28031              624409   \n",
       "3048        Z     2/15/2020       24749          31281              439362   \n",
       "3049        Z     2/22/2020       20713          30356              464178   \n",
       "3050        Z     2/29/2020       15990          26993              449032   \n",
       "\n",
       "      Email_Impressions  Facebook_Impressions  Affiliate_Impressions  \\\n",
       "0          3.498950e+05                 73580                  12072   \n",
       "1          5.062702e+05                 11804                   9499   \n",
       "2          4.300422e+05                 52232                  17048   \n",
       "3          4.177457e+05                 78640                  10207   \n",
       "4          4.085058e+05                 40561                   5834   \n",
       "...                 ...                   ...                    ...   \n",
       "3046       1.459071e+06                 45026                  12098   \n",
       "3047       5.342505e+05                227070                   9548   \n",
       "3048       4.227182e+05                393685                   9861   \n",
       "3049       6.085799e+05                424676                  10221   \n",
       "3050       4.390165e+05                161439                  10294   \n",
       "\n",
       "      Overall_Views   Sales  \n",
       "0               682   59417  \n",
       "1               853   56806  \n",
       "2               759   48715  \n",
       "3               942   72047  \n",
       "4               658   56235  \n",
       "...             ...     ...  \n",
       "3046          53667   82707  \n",
       "3047          53665   84503  \n",
       "3048          55561  147325  \n",
       "3049          49221  111525  \n",
       "3050          42994   98187  \n",
       "\n",
       "[3051 rows x 10 columns]"
      ]
     },
     "execution_count": 2,
     "metadata": {},
     "output_type": "execute_result"
    }
   ],
   "source": [
    "sample_data = pd.read_csv('AdSpent.csv')\n",
    "sample_data"
   ]
  },
  {
   "cell_type": "code",
   "execution_count": 3,
   "metadata": {
    "ExecuteTime": {
     "end_time": "2021-06-10T10:36:19.384536Z",
     "start_time": "2021-06-10T10:36:19.356493Z"
    }
   },
   "outputs": [
    {
     "data": {
      "text/html": [
       "<div>\n",
       "<style scoped>\n",
       "    .dataframe tbody tr th:only-of-type {\n",
       "        vertical-align: middle;\n",
       "    }\n",
       "\n",
       "    .dataframe tbody tr th {\n",
       "        vertical-align: top;\n",
       "    }\n",
       "\n",
       "    .dataframe thead th {\n",
       "        text-align: right;\n",
       "    }\n",
       "</style>\n",
       "<table border=\"1\" class=\"dataframe\">\n",
       "  <thead>\n",
       "    <tr style=\"text-align: right;\">\n",
       "      <th></th>\n",
       "      <th>Calendar_Week</th>\n",
       "      <th>Sales</th>\n",
       "    </tr>\n",
       "  </thead>\n",
       "  <tbody>\n",
       "    <tr>\n",
       "      <th>0</th>\n",
       "      <td>1/6/2018</td>\n",
       "      <td>59417</td>\n",
       "    </tr>\n",
       "    <tr>\n",
       "      <th>1</th>\n",
       "      <td>1/13/2018</td>\n",
       "      <td>56806</td>\n",
       "    </tr>\n",
       "    <tr>\n",
       "      <th>2</th>\n",
       "      <td>1/20/2018</td>\n",
       "      <td>48715</td>\n",
       "    </tr>\n",
       "    <tr>\n",
       "      <th>3</th>\n",
       "      <td>1/27/2018</td>\n",
       "      <td>72047</td>\n",
       "    </tr>\n",
       "    <tr>\n",
       "      <th>4</th>\n",
       "      <td>2/3/2018</td>\n",
       "      <td>56235</td>\n",
       "    </tr>\n",
       "    <tr>\n",
       "      <th>...</th>\n",
       "      <td>...</td>\n",
       "      <td>...</td>\n",
       "    </tr>\n",
       "    <tr>\n",
       "      <th>3046</th>\n",
       "      <td>2/1/2020</td>\n",
       "      <td>82707</td>\n",
       "    </tr>\n",
       "    <tr>\n",
       "      <th>3047</th>\n",
       "      <td>2/8/2020</td>\n",
       "      <td>84503</td>\n",
       "    </tr>\n",
       "    <tr>\n",
       "      <th>3048</th>\n",
       "      <td>2/15/2020</td>\n",
       "      <td>147325</td>\n",
       "    </tr>\n",
       "    <tr>\n",
       "      <th>3049</th>\n",
       "      <td>2/22/2020</td>\n",
       "      <td>111525</td>\n",
       "    </tr>\n",
       "    <tr>\n",
       "      <th>3050</th>\n",
       "      <td>2/29/2020</td>\n",
       "      <td>98187</td>\n",
       "    </tr>\n",
       "  </tbody>\n",
       "</table>\n",
       "<p>3051 rows × 2 columns</p>\n",
       "</div>"
      ],
      "text/plain": [
       "     Calendar_Week   Sales\n",
       "0         1/6/2018   59417\n",
       "1        1/13/2018   56806\n",
       "2        1/20/2018   48715\n",
       "3        1/27/2018   72047\n",
       "4         2/3/2018   56235\n",
       "...            ...     ...\n",
       "3046      2/1/2020   82707\n",
       "3047      2/8/2020   84503\n",
       "3048     2/15/2020  147325\n",
       "3049     2/22/2020  111525\n",
       "3050     2/29/2020   98187\n",
       "\n",
       "[3051 rows x 2 columns]"
      ]
     },
     "execution_count": 3,
     "metadata": {},
     "output_type": "execute_result"
    }
   ],
   "source": [
    "sample_data = sample_data.loc[:, ['Calendar_Week', 'Sales']]\n",
    "sample_data"
   ]
  },
  {
   "cell_type": "code",
   "execution_count": 5,
   "metadata": {
    "ExecuteTime": {
     "end_time": "2021-06-10T10:37:15.400491Z",
     "start_time": "2021-06-10T10:37:15.361318Z"
    }
   },
   "outputs": [
    {
     "data": {
      "text/html": [
       "<div>\n",
       "<style scoped>\n",
       "    .dataframe tbody tr th:only-of-type {\n",
       "        vertical-align: middle;\n",
       "    }\n",
       "\n",
       "    .dataframe tbody tr th {\n",
       "        vertical-align: top;\n",
       "    }\n",
       "\n",
       "    .dataframe thead th {\n",
       "        text-align: right;\n",
       "    }\n",
       "</style>\n",
       "<table border=\"1\" class=\"dataframe\">\n",
       "  <thead>\n",
       "    <tr style=\"text-align: right;\">\n",
       "      <th></th>\n",
       "      <th>Calendar_Week</th>\n",
       "      <th>Sales</th>\n",
       "    </tr>\n",
       "  </thead>\n",
       "  <tbody>\n",
       "    <tr>\n",
       "      <th>0</th>\n",
       "      <td>2018-01-06</td>\n",
       "      <td>59417</td>\n",
       "    </tr>\n",
       "    <tr>\n",
       "      <th>1</th>\n",
       "      <td>2018-01-13</td>\n",
       "      <td>56806</td>\n",
       "    </tr>\n",
       "    <tr>\n",
       "      <th>2</th>\n",
       "      <td>2018-01-20</td>\n",
       "      <td>48715</td>\n",
       "    </tr>\n",
       "    <tr>\n",
       "      <th>3</th>\n",
       "      <td>2018-01-27</td>\n",
       "      <td>72047</td>\n",
       "    </tr>\n",
       "    <tr>\n",
       "      <th>4</th>\n",
       "      <td>2018-02-03</td>\n",
       "      <td>56235</td>\n",
       "    </tr>\n",
       "    <tr>\n",
       "      <th>...</th>\n",
       "      <td>...</td>\n",
       "      <td>...</td>\n",
       "    </tr>\n",
       "    <tr>\n",
       "      <th>3046</th>\n",
       "      <td>2020-02-01</td>\n",
       "      <td>82707</td>\n",
       "    </tr>\n",
       "    <tr>\n",
       "      <th>3047</th>\n",
       "      <td>2020-02-08</td>\n",
       "      <td>84503</td>\n",
       "    </tr>\n",
       "    <tr>\n",
       "      <th>3048</th>\n",
       "      <td>2020-02-15</td>\n",
       "      <td>147325</td>\n",
       "    </tr>\n",
       "    <tr>\n",
       "      <th>3049</th>\n",
       "      <td>2020-02-22</td>\n",
       "      <td>111525</td>\n",
       "    </tr>\n",
       "    <tr>\n",
       "      <th>3050</th>\n",
       "      <td>2020-02-29</td>\n",
       "      <td>98187</td>\n",
       "    </tr>\n",
       "  </tbody>\n",
       "</table>\n",
       "<p>3051 rows × 2 columns</p>\n",
       "</div>"
      ],
      "text/plain": [
       "     Calendar_Week   Sales\n",
       "0       2018-01-06   59417\n",
       "1       2018-01-13   56806\n",
       "2       2018-01-20   48715\n",
       "3       2018-01-27   72047\n",
       "4       2018-02-03   56235\n",
       "...            ...     ...\n",
       "3046    2020-02-01   82707\n",
       "3047    2020-02-08   84503\n",
       "3048    2020-02-15  147325\n",
       "3049    2020-02-22  111525\n",
       "3050    2020-02-29   98187\n",
       "\n",
       "[3051 rows x 2 columns]"
      ]
     },
     "execution_count": 5,
     "metadata": {},
     "output_type": "execute_result"
    }
   ],
   "source": [
    "sample_data['Calendar_Week'] = pd.to_datetime(sample_data['Calendar_Week'])\n",
    "sample_data "
   ]
  },
  {
   "cell_type": "code",
   "execution_count": 9,
   "metadata": {
    "ExecuteTime": {
     "end_time": "2021-06-10T10:40:06.487056Z",
     "start_time": "2021-06-10T10:40:06.461779Z"
    }
   },
   "outputs": [
    {
     "data": {
      "text/html": [
       "<div>\n",
       "<style scoped>\n",
       "    .dataframe tbody tr th:only-of-type {\n",
       "        vertical-align: middle;\n",
       "    }\n",
       "\n",
       "    .dataframe tbody tr th {\n",
       "        vertical-align: top;\n",
       "    }\n",
       "\n",
       "    .dataframe thead th {\n",
       "        text-align: right;\n",
       "    }\n",
       "</style>\n",
       "<table border=\"1\" class=\"dataframe\">\n",
       "  <thead>\n",
       "    <tr style=\"text-align: right;\">\n",
       "      <th></th>\n",
       "      <th>Sales</th>\n",
       "    </tr>\n",
       "    <tr>\n",
       "      <th>Calendar_Week</th>\n",
       "      <th></th>\n",
       "    </tr>\n",
       "  </thead>\n",
       "  <tbody>\n",
       "    <tr>\n",
       "      <th>2018-01-06</th>\n",
       "      <td>59417</td>\n",
       "    </tr>\n",
       "    <tr>\n",
       "      <th>2018-01-13</th>\n",
       "      <td>56806</td>\n",
       "    </tr>\n",
       "    <tr>\n",
       "      <th>2018-01-20</th>\n",
       "      <td>48715</td>\n",
       "    </tr>\n",
       "    <tr>\n",
       "      <th>2018-01-27</th>\n",
       "      <td>72047</td>\n",
       "    </tr>\n",
       "    <tr>\n",
       "      <th>2018-02-03</th>\n",
       "      <td>56235</td>\n",
       "    </tr>\n",
       "    <tr>\n",
       "      <th>...</th>\n",
       "      <td>...</td>\n",
       "    </tr>\n",
       "    <tr>\n",
       "      <th>2020-02-01</th>\n",
       "      <td>82707</td>\n",
       "    </tr>\n",
       "    <tr>\n",
       "      <th>2020-02-08</th>\n",
       "      <td>84503</td>\n",
       "    </tr>\n",
       "    <tr>\n",
       "      <th>2020-02-15</th>\n",
       "      <td>147325</td>\n",
       "    </tr>\n",
       "    <tr>\n",
       "      <th>2020-02-22</th>\n",
       "      <td>111525</td>\n",
       "    </tr>\n",
       "    <tr>\n",
       "      <th>2020-02-29</th>\n",
       "      <td>98187</td>\n",
       "    </tr>\n",
       "  </tbody>\n",
       "</table>\n",
       "<p>3051 rows × 1 columns</p>\n",
       "</div>"
      ],
      "text/plain": [
       "                Sales\n",
       "Calendar_Week        \n",
       "2018-01-06      59417\n",
       "2018-01-13      56806\n",
       "2018-01-20      48715\n",
       "2018-01-27      72047\n",
       "2018-02-03      56235\n",
       "...               ...\n",
       "2020-02-01      82707\n",
       "2020-02-08      84503\n",
       "2020-02-15     147325\n",
       "2020-02-22     111525\n",
       "2020-02-29      98187\n",
       "\n",
       "[3051 rows x 1 columns]"
      ]
     },
     "execution_count": 9,
     "metadata": {},
     "output_type": "execute_result"
    }
   ],
   "source": [
    "sample_data.index = sample_data['Calendar_Week']\n",
    "sample_data.drop(labels='Calendar_Week', axis=1, inplace= True)\n",
    "sample_data"
   ]
  },
  {
   "cell_type": "code",
   "execution_count": 10,
   "metadata": {
    "ExecuteTime": {
     "end_time": "2021-06-10T10:40:13.671349Z",
     "start_time": "2021-06-10T10:40:13.448063Z"
    }
   },
   "outputs": [
    {
     "data": {
      "text/plain": [
       "<matplotlib.axes._subplots.AxesSubplot at 0x2179bbc04a8>"
      ]
     },
     "execution_count": 10,
     "metadata": {},
     "output_type": "execute_result"
    },
    {
     "data": {
      "image/png": "[encoded data removed]",
      "text/plain": [
       "<Figure size 432x288 with 1 Axes>"
      ]
     },
     "metadata": {
      "needs_background": "light"
     },
     "output_type": "display_data"
    }
   ],
   "source": [
    "sample_data.plot()"
   ]
  },
  {
   "cell_type": "markdown",
   "metadata": {},
   "source": [
    "* Here we can observe seasonal fluctuations, like more sales in the late december and early january, hence will use an additive model"
   ]
  },
  {
   "cell_type": "code",
   "execution_count": 11,
   "metadata": {
    "ExecuteTime": {
     "end_time": "2021-06-10T11:01:59.245888Z",
     "start_time": "2021-06-10T11:01:54.770681Z"
    }
   },
   "outputs": [],
   "source": [
    "# interval width sets the uncertainity interval to produce a condidence \n",
    "# interval around the forecast\n",
    "model_1 = Prophet(interval_width=0.95)"
   ]
  },
  {
   "cell_type": "code",
   "execution_count": 15,
   "metadata": {
    "ExecuteTime": {
     "end_time": "2021-06-10T11:04:30.138275Z",
     "start_time": "2021-06-10T11:04:30.124699Z"
    }
   },
   "outputs": [],
   "source": [
    "# split to training and testing\n",
    "training_data = sample_data[:'2020-01-31']\n",
    "testing_data = sample_data['2020-02-01':]"
   ]
  },
  {
   "cell_type": "code",
   "execution_count": 16,
   "metadata": {
    "ExecuteTime": {
     "end_time": "2021-06-10T11:05:29.800697Z",
     "start_time": "2021-06-10T11:05:29.780429Z"
    }
   },
   "outputs": [
    {
     "ename": "ValueError",
     "evalue": "Dataframe must have columns \"ds\" and \"y\" with the dates and values respectively.",
     "output_type": "error",
     "traceback": [
      "\u001b[1;31m---------------------------------------------------------------------------\u001b[0m",
      "\u001b[1;31mValueError\u001b[0m                                Traceback (most recent call last)",
      "\u001b[1;32m<ipython-input-16-df5fc8ee49ee>\u001b[0m in \u001b[0;36m<module>\u001b[1;34m\u001b[0m\n\u001b[1;32m----> 1\u001b[1;33m \u001b[0mmodel_1\u001b[0m\u001b[1;33m.\u001b[0m\u001b[0mfit\u001b[0m\u001b[1;33m(\u001b[0m\u001b[0mtraining_data\u001b[0m\u001b[1;33m)\u001b[0m\u001b[1;33m\u001b[0m\u001b[1;33m\u001b[0m\u001b[0m\n\u001b[0m\u001b[0;32m      2\u001b[0m \u001b[0mfuture\u001b[0m \u001b[1;33m=\u001b[0m \u001b[0mmodel_1\u001b[0m\u001b[1;33m.\u001b[0m\u001b[0mmake_future_dataframe\u001b[0m\u001b[1;33m(\u001b[0m\u001b[0mperiods\u001b[0m\u001b[1;33m=\u001b[0m\u001b[1;36m33\u001b[0m\u001b[1;33m)\u001b[0m\u001b[1;33m\u001b[0m\u001b[1;33m\u001b[0m\u001b[0m\n\u001b[0;32m      3\u001b[0m \u001b[0mfuture\u001b[0m\u001b[1;33m.\u001b[0m\u001b[0mtail\u001b[0m\u001b[1;33m(\u001b[0m\u001b[1;33m)\u001b[0m\u001b[1;33m\u001b[0m\u001b[1;33m\u001b[0m\u001b[0m\n",
      "\u001b[1;32m~\\Anaconda3\\envs\\tf_nptel\\lib\\site-packages\\fbprophet\\forecaster.py\u001b[0m in \u001b[0;36mfit\u001b[1;34m(self, df, **kwargs)\u001b[0m\n\u001b[0;32m   1101\u001b[0m         \u001b[1;32mif\u001b[0m \u001b[1;33m(\u001b[0m\u001b[1;34m'ds'\u001b[0m \u001b[1;32mnot\u001b[0m \u001b[1;32min\u001b[0m \u001b[0mdf\u001b[0m\u001b[1;33m)\u001b[0m \u001b[1;32mor\u001b[0m \u001b[1;33m(\u001b[0m\u001b[1;34m'y'\u001b[0m \u001b[1;32mnot\u001b[0m \u001b[1;32min\u001b[0m \u001b[0mdf\u001b[0m\u001b[1;33m)\u001b[0m\u001b[1;33m:\u001b[0m\u001b[1;33m\u001b[0m\u001b[1;33m\u001b[0m\u001b[0m\n\u001b[0;32m   1102\u001b[0m             raise ValueError(\n\u001b[1;32m-> 1103\u001b[1;33m                 \u001b[1;34m'Dataframe must have columns \"ds\" and \"y\" with the dates and '\u001b[0m\u001b[1;33m\u001b[0m\u001b[1;33m\u001b[0m\u001b[0m\n\u001b[0m\u001b[0;32m   1104\u001b[0m                 \u001b[1;34m'values respectively.'\u001b[0m\u001b[1;33m\u001b[0m\u001b[1;33m\u001b[0m\u001b[0m\n\u001b[0;32m   1105\u001b[0m             )\n",
      "\u001b[1;31mValueError\u001b[0m: Dataframe must have columns \"ds\" and \"y\" with the dates and values respectively."
     ]
    }
   ],
   "source": [
    "model_1.fit(training_data)\n",
    "future = model_1.make_future_dataframe(periods=33)\n",
    "future.tail()"
   ]
  },
  {
   "cell_type": "code",
   "execution_count": null,
   "metadata": {},
   "outputs": [],
   "source": []
  }
 ],
 "metadata": {
  "kernelspec": {
   "display_name": "Python 3",
   "language": "python",
   "name": "python3"
  },
  "language_info": {
   "codemirror_mode": {
    "name": "ipython",
    "version": 3
   },
   "file_extension": ".py",
   "mimetype": "text/x-python",
   "name": "python",
   "nbconvert_exporter": "python",
   "pygments_lexer": "ipython3",
   "version": "3.6.10"
  },
  "varInspector": {
   "cols": {
    "lenName": 16,
    "lenType": 16,
    "lenVar": 40
   },
   "kernels_config": {
    "python": {
     "delete_cmd_postfix": "",
     "delete_cmd_prefix": "del ",
     "library": "var_list.py",
     "varRefreshCmd": "print(var_dic_list())"
    },
    "r": {
     "delete_cmd_postfix": ") ",
     "delete_cmd_prefix": "rm(",
     "library": "var_list.r",
     "varRefreshCmd": "cat(var_dic_list()) "
    }
   },
   "types_to_exclude": [
    "module",
    "function",
    "builtin_function_or_method",
    "instance",
    "_Feature"
   ],
   "window_display": false
  }
 },
 "nbformat": 4,
 "nbformat_minor": 4
}
